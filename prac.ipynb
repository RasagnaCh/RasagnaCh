{
  "nbformat": 4,
  "nbformat_minor": 0,
  "metadata": {
    "colab": {
      "provenance": [],
      "authorship_tag": "ABX9TyNzi3N4xTMGgifkwMP/KBV9",
      "include_colab_link": true
    },
    "kernelspec": {
      "name": "python3",
      "display_name": "Python 3"
    },
    "language_info": {
      "name": "python"
    }
  },
  "cells": [
    {
      "cell_type": "markdown",
      "metadata": {
        "id": "view-in-github",
        "colab_type": "text"
      },
      "source": [
        "<a href=\"https://colab.research.google.com/github/RasagnaCh/RasagnaCh/blob/main/prac.ipynb\" target=\"_parent\"><img src=\"https://colab.research.google.com/assets/colab-badge.svg\" alt=\"Open In Colab\"/></a>"
      ]
    },
    {
      "cell_type": "code",
      "execution_count": 23,
      "metadata": {
        "colab": {
          "base_uri": "https://localhost:8080/"
        },
        "id": "sKQqwfwrIoay",
        "outputId": "9c800310-8543-4dd6-ad42-6724dc1638b5"
      },
      "outputs": [
        {
          "output_type": "stream",
          "name": "stdout",
          "text": [
            "hello world\n"
          ]
        }
      ],
      "source": [
        "#Hello world\n",
        "print('hello world');"
      ]
    },
    {
      "cell_type": "code",
      "source": [
        "#Strings \n",
        "print('I can do this');"
      ],
      "metadata": {
        "colab": {
          "base_uri": "https://localhost:8080/"
        },
        "id": "EeLcKiMeIuyA",
        "outputId": "5ef37967-89b8-4370-c696-7d1ccd61d415"
      },
      "execution_count": 25,
      "outputs": [
        {
          "output_type": "stream",
          "name": "stdout",
          "text": [
            "I can do this\n"
          ]
        }
      ]
    },
    {
      "cell_type": "code",
      "source": [
        "#Concatenation of strings\n",
        "print('my age is ' + 'twentyone')\n"
      ],
      "metadata": {
        "colab": {
          "base_uri": "https://localhost:8080/"
        },
        "id": "JA2vDAHjI88B",
        "outputId": "f7f4fe10-590e-46a8-e148-2bdb42a67be7"
      },
      "execution_count": 26,
      "outputs": [
        {
          "output_type": "stream",
          "name": "stdout",
          "text": [
            "my age is twentyone\n"
          ]
        }
      ]
    },
    {
      "cell_type": "code",
      "source": [
        "Greeting =\"Hello! Welcome to pixeltests. \"\n",
        "Name = 'rasagna'\n",
        "ID = \"this is your ID. Please note it down. ID = 95\"\n",
        "print(Greeting + 'Dear '+ Name + ', '+ ID)"
      ],
      "metadata": {
        "colab": {
          "base_uri": "https://localhost:8080/"
        },
        "id": "NaiZNzVQJD-z",
        "outputId": "ba0232b3-ca14-4f4b-b717-253528e476ac"
      },
      "execution_count": 14,
      "outputs": [
        {
          "output_type": "stream",
          "name": "stdout",
          "text": [
            "Hello! Welcome to pixeltests. Dear rasagna, this is your ID. Please note it down. ID = 95\n"
          ]
        }
      ]
    },
    {
      "cell_type": "code",
      "source": [
        "#variable and calculations\n",
        "price = 30\n",
        "qty = 6\n",
        "total = price*qty\n",
        "print(total);"
      ],
      "metadata": {
        "colab": {
          "base_uri": "https://localhost:8080/"
        },
        "id": "-NF8JDXrLzio",
        "outputId": "25289ab5-be51-46ef-af65-48575ad0f5ca"
      },
      "execution_count": 27,
      "outputs": [
        {
          "output_type": "stream",
          "name": "stdout",
          "text": [
            "180\n"
          ]
        }
      ]
    },
    {
      "cell_type": "code",
      "source": [
        "#modulo operator (%)\n",
        "a = 10\n",
        "b = 3\n",
        "remainder = a%b\n",
        "print(remainder)\n"
      ],
      "metadata": {
        "colab": {
          "base_uri": "https://localhost:8080/"
        },
        "id": "MD_KQ0aoMW0A",
        "outputId": "46edb629-31ff-447a-f42a-d2adc258eb1f"
      },
      "execution_count": 29,
      "outputs": [
        {
          "output_type": "stream",
          "name": "stdout",
          "text": [
            "1\n"
          ]
        }
      ]
    },
    {
      "cell_type": "code",
      "source": [
        "#UPDATING VARIABLES\n",
        "jan_rainfall_to_june_rainfall = 1.93 + 0.71 + 3.53 + 3.41 + 3.69 + 4.50\n",
        "annual_rainfall = jan_rainfall_to_june_rainfall\n",
        "#gives 17.77 when print (annual_rainfall) is given\n",
        "\n",
        "#add july rainfall to the annual rainfall\n",
        "july_rainfall = 2\n",
        "annual_rainfall =jan_rainfall_to_june_rainfall + july_rainfall\n",
        "#gives 19.77 when print (annual_rainfall) is given\n",
        "\n",
        "#if the values of sep_rainfall, aug_rainfall, oct_rainfall, nov_rainfall and dec_rainfall are given and\n",
        "# are asked to add them to the annual_rainfall, we have to repeat everystep. So, to avoid it, a shortcut is given in Python. It is +=\n",
        "aug_rainfall = 3.6\n",
        "sep_rainfall = 2.73\n",
        "oct_rainfall = 3.45\n",
        "nov_rainfall = 4.11\n",
        "dec_rainfall = 1.0\n",
        "\n",
        "annual_rainfall += aug_rainfall #print(annual_rainfall) gives 23.37\n",
        "annual_rainfall += sep_rainfall #print(annual_rainfall) gives 26.1\n",
        "annual_rainfall += oct_rainfall #print(annual_rainfall) gives 29.55\n",
        "annual_rainfall += nov_rainfall #print(annual_rainfall) gives 33.66\n",
        "annual_rainfall += dec_rainfall #print(annual_rainfall) gives 34.66\n",
        "print(annual_rainfall)"
      ],
      "metadata": {
        "colab": {
          "base_uri": "https://localhost:8080/"
        },
        "id": "tpyrgc8wOzEs",
        "outputId": "736a00ac-6416-4e32-ef6a-dbc165d96d60"
      },
      "execution_count": 57,
      "outputs": [
        {
          "output_type": "stream",
          "name": "stdout",
          "text": [
            "34.660000000000004\n"
          ]
        }
      ]
    },
    {
      "cell_type": "code",
      "source": [
        "#numbers\n",
        "#integer datatype\n",
        "int1=9\n",
        "\n",
        "#floattype\n",
        "float1=5.1\n",
        "float2=9.   #type(float2) gives float\n",
        "\n",
        "#float() method\n",
        "quotient = 7/3         \n",
        "print(quotient)      #gives 2.3333333333333335\n",
        "quotient = int(7)/3       \n",
        "print(quotient)      #gives 2.3333333333333335\n",
        "\n"
      ],
      "metadata": {
        "colab": {
          "base_uri": "https://localhost:8080/"
        },
        "id": "g6F361Q9VhR7",
        "outputId": "53bade53-e412-4054-9ed4-58828a959c16"
      },
      "execution_count": 65,
      "outputs": [
        {
          "output_type": "stream",
          "name": "stdout",
          "text": [
            "2.3333333333333335\n",
            "2.3333333333333335\n"
          ]
        }
      ]
    },
    {
      "cell_type": "code",
      "source": [
        "#multilinestrings, for this we use either ''' ''' or \"\"\" \"\"\"\n",
        "multi = \"\"\"Flat No. G-3\n",
        "Adithi Enclave\n",
        "Vjwda\"\"\"\n",
        "print (multi)"
      ],
      "metadata": {
        "colab": {
          "base_uri": "https://localhost:8080/"
        },
        "id": "lHxU9yuMWfK5",
        "outputId": "43032494-9d61-4f8a-ae9b-1c11697cd20d"
      },
      "execution_count": 85,
      "outputs": [
        {
          "output_type": "stream",
          "name": "stdout",
          "text": [
            "Flat No. G-3\n",
            "Adithi Enclave\n",
            "Vjwda\n"
          ]
        }
      ]
    },
    {
      "cell_type": "code",
      "source": [
        " #converting int into string\n",
        " age = 21\n",
        " print('my age is ' + str(age) )\n",
        "\n",
        " #example2\n",
        " \n",
        " pi = 3.14\n",
        " print('the value of pi is around ' + str(pi))"
      ],
      "metadata": {
        "colab": {
          "base_uri": "https://localhost:8080/"
        },
        "id": "1AHFW81OaLAB",
        "outputId": "8acab503-7750-458d-cb1c-c3dbe1de5271"
      },
      "execution_count": 106,
      "outputs": [
        {
          "output_type": "stream",
          "name": "stdout",
          "text": [
            "my age is 21\n",
            "the value of pi is around 3.14\n"
          ]
        }
      ]
    },
    {
      "cell_type": "code",
      "source": [
        "#string addition\n",
        "#add 100 + 10 to give 10010\n",
        "A ='100'\n",
        "B ='10'\n",
        "print (A+B) \n",
        "\n",
        "#convert str into int type using int()\n",
        "A = int(100)\n",
        "B = int(10)\n",
        "print(A+B)\n",
        "\n",
        "\n"
      ],
      "metadata": {
        "colab": {
          "base_uri": "https://localhost:8080/"
        },
        "id": "sAlZNeHfeGS_",
        "outputId": "d2b0c5c9-c8b7-4c55-a90f-0040646570bc"
      },
      "execution_count": 84,
      "outputs": [
        {
          "output_type": "stream",
          "name": "stdout",
          "text": [
            "10010\n",
            "110\n"
          ]
        }
      ]
    },
    {
      "cell_type": "code",
      "source": [
        "#converting from float to int\n",
        "a = int(7.5)\n",
        "print(a)"
      ],
      "metadata": {
        "colab": {
          "base_uri": "https://localhost:8080/"
        },
        "id": "jMVwfbIDe5fS",
        "outputId": "a775bc15-d533-4f30-d718-82f765549e23"
      },
      "execution_count": 92,
      "outputs": [
        {
          "output_type": "stream",
          "name": "stdout",
          "text": [
            "7\n"
          ]
        }
      ]
    },
    {
      "cell_type": "code",
      "source": [
        "age = \"45\"\n",
        "print (\"this is my uncles age = \" + age )\n",
        "\n",
        "age = 45\n",
        "print (\"this is my uncles age = \" + str(age) )\n",
        "\n"
      ],
      "metadata": {
        "colab": {
          "base_uri": "https://localhost:8080/"
        },
        "id": "_zSRV7P5sBo_",
        "outputId": "696e2a4d-8554-4653-b1b9-5c9cb58f20b9"
      },
      "execution_count": 91,
      "outputs": [
        {
          "output_type": "stream",
          "name": "stdout",
          "text": [
            "this is my uncles age = 45\n",
            "this is my uncles age = 45\n"
          ]
        }
      ]
    },
    {
      "cell_type": "code",
      "source": [
        "#STRINGS\n",
        "#IndexNumber\n",
        "\n",
        "print('Ryan'[3]) #or name = 'Ryan'[0]; print(name)\n",
        "\n",
        "#find the 5th letter of MONTY\n",
        "print('MONTY'[4])\n",
        "                        \n"
      ],
      "metadata": {
        "colab": {
          "base_uri": "https://localhost:8080/"
        },
        "id": "nATLLZ9PxXCr",
        "outputId": "88f71326-0c63-4361-ba10-6f54eb11d1b4"
      },
      "execution_count": 101,
      "outputs": [
        {
          "output_type": "stream",
          "name": "stdout",
          "text": [
            "n\n",
            "Y\n"
          ]
        }
      ]
    },
    {
      "cell_type": "code",
      "source": [
        "#length of variable\n",
        "name = 'Donkey'\n",
        "Length= len(name)\n",
        "print(Length)"
      ],
      "metadata": {
        "colab": {
          "base_uri": "https://localhost:8080/"
        },
        "id": "nILloUESzE5J",
        "outputId": "059ae839-0997-4d05-9801-5b5716feb4f9"
      },
      "execution_count": 104,
      "outputs": [
        {
          "output_type": "stream",
          "name": "stdout",
          "text": [
            "6\n"
          ]
        }
      ]
    },
    {
      "cell_type": "code",
      "source": [
        "#calling lower() and upper() on word using dot notation\n",
        "\n",
        "word = 'Exhibition'\n",
        "print(word.lower())\n",
        "\n",
        "word = 'exhIBItion'\n",
        "print(word.upper())"
      ],
      "metadata": {
        "colab": {
          "base_uri": "https://localhost:8080/"
        },
        "id": "I3oU-uyj0g5K",
        "outputId": "c192e34a-b57d-4747-d569-10b6cc09d356"
      },
      "execution_count": 109,
      "outputs": [
        {
          "output_type": "stream",
          "name": "stdout",
          "text": [
            "exhibition\n",
            "EXHIBITION\n"
          ]
        }
      ]
    },
    {
      "cell_type": "code",
      "source": [
        "#STRING FORMATTING\n",
        "string1 = \"Red Light\"\n",
        "string2 = \"Green Light\"\n",
        "print('Stop when its a %s. Go when it is a %s '% (string1, string2)) \n",
        "\n",
        "name = 'Rasagna'\n",
        "desk = 30\n",
        "books = '3 books'\n",
        "print('Dear %s, Kindly go to the desk no. %s. Take %s from it. Thankyou!' % (name, desk, books))"
      ],
      "metadata": {
        "colab": {
          "base_uri": "https://localhost:8080/"
        },
        "id": "fJThnu0u1gm7",
        "outputId": "1c0773ae-914b-4f77-ae63-8d31b59a0656"
      },
      "execution_count": 119,
      "outputs": [
        {
          "output_type": "stream",
          "name": "stdout",
          "text": [
            "Stop when its a Red Light. Go when it is a Green Light \n",
            "Dear Rasagna, Kindly go to the desk no. 30. Take 3 books from it. Thankyou!\n"
          ]
        }
      ]
    },
    {
      "cell_type": "code",
      "source": [
        "#GETTING CURRENT DATE AND TIME\n",
        "#we use datetime.now() to retrieve date and time\n",
        "from datetime import datetime          #this is used to import the datetime lib here \n",
        "now = datetime.now()\n",
        "print(now)"
      ],
      "metadata": {
        "colab": {
          "base_uri": "https://localhost:8080/"
        },
        "id": "2y1TuD3V3dhR",
        "outputId": "ebfcc3c1-ed97-408d-a07b-2491b1c1dd10"
      },
      "execution_count": 129,
      "outputs": [
        {
          "output_type": "stream",
          "name": "stdout",
          "text": [
            "2023-05-18 12:49:21.104995\n"
          ]
        }
      ]
    },
    {
      "cell_type": "code",
      "source": [
        "print(now.year); print(now.month); print(now.day)\n",
        "print(now.year, now.month, now.day)\n",
        "\n",
        "#print it in a sentence\n",
        "print('%02d - %02d - %04d' % (now.day, now.month, now.year)) #02d is 2 digits and likewise.\n",
        "\n",
        "#or print('%s - %s - %s' % (now.day, now.month, now.year)) "
      ],
      "metadata": {
        "colab": {
          "base_uri": "https://localhost:8080/"
        },
        "id": "qwXfDxJO5x08",
        "outputId": "a46368b2-f5b3-4f3f-bad7-16014893a633"
      },
      "execution_count": 134,
      "outputs": [
        {
          "output_type": "stream",
          "name": "stdout",
          "text": [
            "2023\n",
            "5\n",
            "18\n",
            "2023 5 18\n",
            "18 - 05 - 2023\n"
          ]
        }
      ]
    },
    {
      "cell_type": "code",
      "source": [
        "#TIME INFORMATION\n",
        "from datetime import datetime\n",
        "now = datetime.now()\n",
        "print(now.hour)\n",
        "print(now.minute)\n",
        "print(now.second)\n",
        "\n",
        "print('%02d : %02d : %04d' % (now.hour, now.minute, now.second))"
      ],
      "metadata": {
        "colab": {
          "base_uri": "https://localhost:8080/"
        },
        "id": "WcNOTKNe7oKW",
        "outputId": "d414d744-7254-4c7f-9ec9-d0fa1bccf039"
      },
      "execution_count": 8,
      "outputs": [
        {
          "output_type": "stream",
          "name": "stdout",
          "text": [
            "16\n",
            "24\n",
            "30\n",
            "16 : 24 : 0030\n"
          ]
        }
      ]
    },
    {
      "cell_type": "code",
      "source": [],
      "metadata": {
        "id": "HxsiGgjP9R-d"
      },
      "execution_count": null,
      "outputs": []
    }
  ]
}