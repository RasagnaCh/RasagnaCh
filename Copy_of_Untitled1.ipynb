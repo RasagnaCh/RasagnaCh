{
  "nbformat": 4,
  "nbformat_minor": 0,
  "metadata": {
    "colab": {
      "provenance": [],
      "authorship_tag": "ABX9TyNILmBIfjDMXVZzwfbq5Qwv",
      "include_colab_link": true
    },
    "kernelspec": {
      "name": "python3",
      "display_name": "Python 3"
    },
    "language_info": {
      "name": "python"
    }
  },
  "cells": [
    {
      "cell_type": "markdown",
      "metadata": {
        "id": "view-in-github",
        "colab_type": "text"
      },
      "source": [
        "<a href=\"https://colab.research.google.com/github/RasagnaCh/RasagnaCh/blob/main/Copy_of_Untitled1.ipynb\" target=\"_parent\"><img src=\"https://colab.research.google.com/assets/colab-badge.svg\" alt=\"Open In Colab\"/></a>"
      ]
    },
    {
      "cell_type": "code",
      "source": [
        "def difficulty():\n",
        "  print('Python is not tough')\n",
        "difficulty()"
      ],
      "metadata": {
        "colab": {
          "base_uri": "https://localhost:8080/"
        },
        "id": "7Blmug4Wd9ZA",
        "outputId": "69c8da0e-c06c-4bb0-800a-c09dcea8255b"
      },
      "execution_count": null,
      "outputs": [
        {
          "output_type": "stream",
          "name": "stdout",
          "text": [
            "Python is not tough\n"
          ]
        }
      ]
    },
    {
      "cell_type": "code",
      "source": [
        "def name(r):\n",
        "  if r >2:\n",
        "    return 'ok'\n",
        "  else: \n",
        "    return 'not ok'\n",
        "print(name(6))"
      ],
      "metadata": {
        "colab": {
          "base_uri": "https://localhost:8080/"
        },
        "id": "XfIYRkODe_8f",
        "outputId": "409ddbbe-d871-4ed5-a998-24590782574b"
      },
      "execution_count": null,
      "outputs": [
        {
          "output_type": "stream",
          "name": "stdout",
          "text": [
            "ok\n"
          ]
        }
      ]
    },
    {
      "cell_type": "code",
      "source": [
        "def x(answer):\n",
        "  if answer<5:\n",
        "    return 1\n",
        "  else:\n",
        "     return 0\n",
        "print(x(9))"
      ],
      "metadata": {
        "colab": {
          "base_uri": "https://localhost:8080/"
        },
        "id": "IHRhn3ZNg6MS",
        "outputId": "408de79d-1763-4417-84a0-ab00f17b98e3"
      },
      "execution_count": null,
      "outputs": [
        {
          "output_type": "stream",
          "name": "stdout",
          "text": [
            "0\n"
          ]
        }
      ]
    },
    {
      "cell_type": "code",
      "source": [
        "#Grade Calculator\n",
        "def gradecal(grade):\n",
        "  if grade > 90:\n",
        "      return 'A'\n",
        "  elif grade >= 80 and grade <=89:\n",
        "      return 'B'\n",
        "  elif grade >= 70 and grade <=79:\n",
        "     return 'C'\n",
        "  else:\n",
        "      return 'F'\n",
        "\n",
        "print(gradecal(76))\n",
        "print(gradecal(66))\n"
      ],
      "metadata": {
        "id": "2cGMwxeHhXVR",
        "colab": {
          "base_uri": "https://localhost:8080/"
        },
        "outputId": "9cb39dff-3477-4953-f1b9-a192a1e42a1a"
      },
      "execution_count": null,
      "outputs": [
        {
          "output_type": "stream",
          "name": "stdout",
          "text": [
            "C\n",
            "F\n"
          ]
        }
      ]
    },
    {
      "cell_type": "code",
      "source": [
        "#WHAT ARE FUNCTIONS\n",
        "#return\n",
        "def tax(bill):\n",
        "  bill *= 1.08         #add 0.8% to the bill as tax\n",
        "  print ('Meal cost: %f and With tax: %f' % (mealcost,bill))\n",
        "  return bill         #this is response\n",
        "\n",
        "mealcost = 100\n",
        "mealwithtax = tax(mealcost)"
      ],
      "metadata": {
        "colab": {
          "base_uri": "https://localhost:8080/"
        },
        "id": "r9j7BVhs7ar5",
        "outputId": "b4b2dff5-a0f5-4bd7-f6f2-4f7d8a33f59d"
      },
      "execution_count": null,
      "outputs": [
        {
          "output_type": "stream",
          "name": "stdout",
          "text": [
            "Meal cost: 100.000000 and With tax: 108.000000\n"
          ]
        }
      ]
    },
    {
      "cell_type": "code",
      "execution_count": null,
      "metadata": {
        "colab": {
          "base_uri": "https://localhost:8080/"
        },
        "id": "xOcMFbBSdpiG",
        "outputId": "67090a7b-835b-42ed-af11-a07151fbbed4"
      },
      "outputs": [
        {
          "output_type": "stream",
          "name": "stdout",
          "text": [
            "Whats your name?\n"
          ]
        }
      ],
      "source": [
        "#DEFINING A FUNCTION\n",
        "def name():\n",
        "  print(\"Whats your name?\")\n",
        "name()"
      ]
    },
    {
      "cell_type": "code",
      "source": [],
      "metadata": {
        "id": "BrJyhxFg-al1"
      },
      "execution_count": null,
      "outputs": []
    }
  ]
}